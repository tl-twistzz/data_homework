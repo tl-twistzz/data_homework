{
 "cells": [
  {
   "cell_type": "markdown",
   "metadata": {},
   "source": [
    "0. 所有的题目结果中，给出SQL语句和执行结果。"
   ]
  },
  {
   "cell_type": "markdown",
   "metadata": {},
   "source": [
    "1. 在新数据库中新建一张 user 表,插入几条数据,属性包含:唯一标识(id),姓名(name)性别(sex).年龄(age).联系方式(phone)，数据如下：\n",
    "\n",
    "    ('John Doe', 'Male', 25, '123-456-7890')\n",
    "\n",
    "    ('Jane Smith', 'Female', 31, '987-654-3210')\n",
    "    \n",
    "    ('Bob Johnson', 'Male', 22, '555-123-4567')"
   ]
  },
  {
   "cell_type": "code",
   "execution_count": null,
   "metadata": {},
   "outputs": [],
   "source": [
    "CREATE TABLE user (\n",
    "    id INT AUTO_INCREMENT PRIMARY KEY,\n",
    "    name VARCHAR(255),\n",
    "    sex VARCHAR(10),\n",
    "    age INT,\n",
    "    phone VARCHAR(20)\n",
    ");\n",
    "\n",
    "INSERT INTO user (name, sex, age, phone) VALUES\n",
    "('John Doe', 'Male', 25, '123-456-7890'),\n",
    "('Jane Smith', 'Female', 31, '987-654-3210'),\n",
    "('Bob Johnson', 'Male', 22, '555-123-4567');\n"
   ]
  },
  {
   "cell_type": "markdown",
   "metadata": {},
   "source": [
    "2. 写出 SQL语句,查询 user 表中所有年龄在 20-30 范围内的用户"
   ]
  },
  {
   "cell_type": "code",
   "execution_count": null,
   "metadata": {},
   "outputs": [],
   "source": [
    "SELECT * FROM user WHERE age BETWEEN 20 AND 30;"
   ]
  },
  {
   "cell_type": "markdown",
   "metadata": {},
   "source": [
    "3. 写出SQL语句，向user表中添加自己的个人信息，并添加几条和你姓名同姓的虚拟信息。"
   ]
  },
  {
   "cell_type": "code",
   "execution_count": null,
   "metadata": {},
   "outputs": [],
   "source": [
    "INSERT INTO user (name, sex, age, phone) VALUES\n",
    "('Alice Wang', 'Female', 28, '111-222-3333'),\n",
    "('Tom Lee', 'Male', 24, '444-555-6666'),\n",
    "('Lucy Zhang', 'Female', 29, '777-888-9999');\n"
   ]
  },
  {
   "cell_type": "markdown",
   "metadata": {},
   "source": [
    "4. 写出 SQL语句,查询 user 表中年龄在 20-30 范围内,名字包含“你的姓氏”的用户,并按照年龄从大到小排序输出"
   ]
  },
  {
   "cell_type": "code",
   "execution_count": null,
   "metadata": {},
   "outputs": [],
   "source": [
    "SELECT * FROM user WHERE age BETWEEN 20 AND 30 AND name LIKE '%Wang%' ORDER BY age DESC;"
   ]
  },
  {
   "cell_type": "markdown",
   "metadata": {},
   "source": [
    "5. 写出 SQL 语句,计算 user 表中所有用户的平均年龄"
   ]
  },
  {
   "cell_type": "code",
   "execution_count": null,
   "metadata": {},
   "outputs": [],
   "source": [
    "SELECT AVG(age) AS average_age FROM user;"
   ]
  },
  {
   "cell_type": "markdown",
   "metadata": {},
   "source": [
    "6. 新建两张表team 表(id,teamName)和score 表(id,teamid,userid,score)。其中score 表中的 teamid 为指向 team表id 的外键，userid 为指向 user表id的外键"
   ]
  },
  {
   "cell_type": "code",
   "execution_count": null,
   "metadata": {},
   "outputs": [],
   "source": [
    "CREATE TABLE team (\n",
    "    id INT AUTO_INCREMENT PRIMARY KEY,\n",
    "    teamName VARCHAR(255)\n",
    ");\n",
    "\n",
    "CREATE TABLE score (\n",
    "    id INT AUTO_INCREMENT PRIMARY KEY,\n",
    "    teamid INT,\n",
    "    userid INT,\n",
    "    score INT,\n",
    "    FOREIGN KEY (teamid) REFERENCES team(id),\n",
    "    FOREIGN KEY (userid) REFERENCES user(id)\n",
    ");\n",
    "\n",
    "INSERT INTO team (teamName) VALUES ('ECNU');\n",
    "INSERT INTO score (teamid, userid, score) VALUES\n",
    "(1, 1, NULL), -- Assuming ids from user table are used here\n",
    "(1, 2, 85),\n",
    "(1, 3, 90);"
   ]
  },
  {
   "cell_type": "markdown",
   "metadata": {},
   "source": [
    "7. 在team表中和score表中插入合适的记录，写出 SQL语句,查询 teamName 为“ECNU”的队伍中，年龄小于 20 的用户们，结果不得为空。"
   ]
  },
  {
   "cell_type": "code",
   "execution_count": null,
   "metadata": {},
   "outputs": [],
   "source": [
    "SELECT u.* FROM user u\n",
    "JOIN score s ON u.id = s.userid\n",
    "JOIN team t ON s.teamid = t.id\n",
    "WHERE t.teamName = 'ECNU' AND u.age < 20;\n"
   ]
  },
  {
   "cell_type": "markdown",
   "metadata": {},
   "source": [
    "8. 写出 SQL 语句,计算 teamName为“ECNU”的总分(假设 score 存在 null值,nul值默认为 0 加入计算)。"
   ]
  },
  {
   "cell_type": "code",
   "execution_count": null,
   "metadata": {},
   "outputs": [],
   "source": [
    "SELECT SUM(COALESCE(score, 0)) AS total_score FROM score\n",
    "JOIN team ON score.teamid = team.id\n",
    "WHERE team.teamName = 'ECNU';\n"
   ]
  },
  {
   "cell_type": "markdown",
   "metadata": {},
   "source": [
    "9. 写出SQL语句，删除user表中个人信息的记录。"
   ]
  },
  {
   "cell_type": "code",
   "execution_count": null,
   "metadata": {},
   "outputs": [],
   "source": [
    "DELETE FROM user;"
   ]
  },
  {
   "cell_type": "code",
   "execution_count": 1,
   "metadata": {},
   "outputs": [
    {
     "ename": "RuntimeError",
     "evalue": "'cryptography' package is required for sha256_password or caching_sha2_password auth methods",
     "output_type": "error",
     "traceback": [
      "\u001b[1;31m---------------------------------------------------------------------------\u001b[0m",
      "\u001b[1;31mRuntimeError\u001b[0m                              Traceback (most recent call last)",
      "Cell \u001b[1;32mIn[1], line 4\u001b[0m\n\u001b[0;32m      1\u001b[0m \u001b[38;5;28;01mimport\u001b[39;00m \u001b[38;5;21;01mpymysql\u001b[39;00m\n\u001b[0;32m      3\u001b[0m \u001b[38;5;66;03m# 连接到数据库\u001b[39;00m\n\u001b[1;32m----> 4\u001b[0m connection \u001b[38;5;241m=\u001b[39m \u001b[43mpymysql\u001b[49m\u001b[38;5;241;43m.\u001b[39;49m\u001b[43mconnect\u001b[49m\u001b[43m(\u001b[49m\u001b[43mhost\u001b[49m\u001b[38;5;241;43m=\u001b[39;49m\u001b[38;5;124;43m'\u001b[39;49m\u001b[38;5;124;43mlocalhost\u001b[39;49m\u001b[38;5;124;43m'\u001b[39;49m\u001b[43m,\u001b[49m\n\u001b[0;32m      5\u001b[0m \u001b[43m                             \u001b[49m\u001b[43muser\u001b[49m\u001b[38;5;241;43m=\u001b[39;49m\u001b[38;5;124;43m'\u001b[39;49m\u001b[38;5;124;43myourusername\u001b[39;49m\u001b[38;5;124;43m'\u001b[39;49m\u001b[43m,\u001b[49m\n\u001b[0;32m      6\u001b[0m \u001b[43m                             \u001b[49m\u001b[43mpassword\u001b[49m\u001b[38;5;241;43m=\u001b[39;49m\u001b[38;5;124;43m'\u001b[39;49m\u001b[38;5;124;43myourpassword\u001b[39;49m\u001b[38;5;124;43m'\u001b[39;49m\u001b[43m,\u001b[49m\n\u001b[0;32m      7\u001b[0m \u001b[43m                             \u001b[49m\u001b[43mdatabase\u001b[49m\u001b[38;5;241;43m=\u001b[39;49m\u001b[38;5;124;43m'\u001b[39;49m\u001b[38;5;124;43myourdatabase\u001b[39;49m\u001b[38;5;124;43m'\u001b[39;49m\u001b[43m)\u001b[49m\n\u001b[0;32m      9\u001b[0m \u001b[38;5;28;01mtry\u001b[39;00m:\n\u001b[0;32m     10\u001b[0m     \u001b[38;5;28;01mwith\u001b[39;00m connection\u001b[38;5;241m.\u001b[39mcursor() \u001b[38;5;28;01mas\u001b[39;00m cursor:\n\u001b[0;32m     11\u001b[0m         \u001b[38;5;66;03m# 创建 user 表并插入数据\u001b[39;00m\n",
      "File \u001b[1;32mc:\\Users\\xm\\AppData\\Local\\Programs\\Python\\Python38\\lib\\site-packages\\pymysql\\connections.py:361\u001b[0m, in \u001b[0;36mConnection.__init__\u001b[1;34m(self, user, password, host, database, unix_socket, port, charset, collation, sql_mode, read_default_file, conv, use_unicode, client_flag, cursorclass, init_command, connect_timeout, read_default_group, autocommit, local_infile, max_allowed_packet, defer_connect, auth_plugin_map, read_timeout, write_timeout, bind_address, binary_prefix, program_name, server_public_key, ssl, ssl_ca, ssl_cert, ssl_disabled, ssl_key, ssl_key_password, ssl_verify_cert, ssl_verify_identity, compress, named_pipe, passwd, db)\u001b[0m\n\u001b[0;32m    359\u001b[0m     \u001b[38;5;28mself\u001b[39m\u001b[38;5;241m.\u001b[39m_sock \u001b[38;5;241m=\u001b[39m \u001b[38;5;28;01mNone\u001b[39;00m\n\u001b[0;32m    360\u001b[0m \u001b[38;5;28;01melse\u001b[39;00m:\n\u001b[1;32m--> 361\u001b[0m     \u001b[38;5;28;43mself\u001b[39;49m\u001b[38;5;241;43m.\u001b[39;49m\u001b[43mconnect\u001b[49m\u001b[43m(\u001b[49m\u001b[43m)\u001b[49m\n",
      "File \u001b[1;32mc:\\Users\\xm\\AppData\\Local\\Programs\\Python\\Python38\\lib\\site-packages\\pymysql\\connections.py:669\u001b[0m, in \u001b[0;36mConnection.connect\u001b[1;34m(self, sock)\u001b[0m\n\u001b[0;32m    666\u001b[0m \u001b[38;5;28mself\u001b[39m\u001b[38;5;241m.\u001b[39m_next_seq_id \u001b[38;5;241m=\u001b[39m \u001b[38;5;241m0\u001b[39m\n\u001b[0;32m    668\u001b[0m \u001b[38;5;28mself\u001b[39m\u001b[38;5;241m.\u001b[39m_get_server_information()\n\u001b[1;32m--> 669\u001b[0m \u001b[38;5;28;43mself\u001b[39;49m\u001b[38;5;241;43m.\u001b[39;49m\u001b[43m_request_authentication\u001b[49m\u001b[43m(\u001b[49m\u001b[43m)\u001b[49m\n\u001b[0;32m    671\u001b[0m \u001b[38;5;66;03m# Send \"SET NAMES\" query on init for:\u001b[39;00m\n\u001b[0;32m    672\u001b[0m \u001b[38;5;66;03m# - Ensure charaset (and collation) is set to the server.\u001b[39;00m\n\u001b[0;32m    673\u001b[0m \u001b[38;5;66;03m#   - collation_id in handshake packet may be ignored.\u001b[39;00m\n\u001b[1;32m   (...)\u001b[0m\n\u001b[0;32m    682\u001b[0m \u001b[38;5;66;03m# - https://github.com/wagtail/wagtail/issues/9477\u001b[39;00m\n\u001b[0;32m    683\u001b[0m \u001b[38;5;66;03m# - https://zenn.dev/methane/articles/2023-mysql-collation (Japanese)\u001b[39;00m\n\u001b[0;32m    684\u001b[0m \u001b[38;5;28mself\u001b[39m\u001b[38;5;241m.\u001b[39mset_character_set(\u001b[38;5;28mself\u001b[39m\u001b[38;5;241m.\u001b[39mcharset, \u001b[38;5;28mself\u001b[39m\u001b[38;5;241m.\u001b[39mcollation)\n",
      "File \u001b[1;32mc:\\Users\\xm\\AppData\\Local\\Programs\\Python\\Python38\\lib\\site-packages\\pymysql\\connections.py:979\u001b[0m, in \u001b[0;36mConnection._request_authentication\u001b[1;34m(self)\u001b[0m\n\u001b[0;32m    977\u001b[0m \u001b[38;5;66;03m# https://dev.mysql.com/doc/internals/en/successful-authentication.html\u001b[39;00m\n\u001b[0;32m    978\u001b[0m \u001b[38;5;28;01mif\u001b[39;00m \u001b[38;5;28mself\u001b[39m\u001b[38;5;241m.\u001b[39m_auth_plugin_name \u001b[38;5;241m==\u001b[39m \u001b[38;5;124m\"\u001b[39m\u001b[38;5;124mcaching_sha2_password\u001b[39m\u001b[38;5;124m\"\u001b[39m:\n\u001b[1;32m--> 979\u001b[0m     auth_packet \u001b[38;5;241m=\u001b[39m \u001b[43m_auth\u001b[49m\u001b[38;5;241;43m.\u001b[39;49m\u001b[43mcaching_sha2_password_auth\u001b[49m\u001b[43m(\u001b[49m\u001b[38;5;28;43mself\u001b[39;49m\u001b[43m,\u001b[49m\u001b[43m \u001b[49m\u001b[43mauth_packet\u001b[49m\u001b[43m)\u001b[49m\n\u001b[0;32m    980\u001b[0m \u001b[38;5;28;01melif\u001b[39;00m \u001b[38;5;28mself\u001b[39m\u001b[38;5;241m.\u001b[39m_auth_plugin_name \u001b[38;5;241m==\u001b[39m \u001b[38;5;124m\"\u001b[39m\u001b[38;5;124msha256_password\u001b[39m\u001b[38;5;124m\"\u001b[39m:\n\u001b[0;32m    981\u001b[0m     auth_packet \u001b[38;5;241m=\u001b[39m _auth\u001b[38;5;241m.\u001b[39msha256_password_auth(\u001b[38;5;28mself\u001b[39m, auth_packet)\n",
      "File \u001b[1;32mc:\\Users\\xm\\AppData\\Local\\Programs\\Python\\Python38\\lib\\site-packages\\pymysql\\_auth.py:267\u001b[0m, in \u001b[0;36mcaching_sha2_password_auth\u001b[1;34m(conn, pkt)\u001b[0m\n\u001b[0;32m    264\u001b[0m     \u001b[38;5;28;01mif\u001b[39;00m DEBUG:\n\u001b[0;32m    265\u001b[0m         \u001b[38;5;28mprint\u001b[39m(conn\u001b[38;5;241m.\u001b[39mserver_public_key\u001b[38;5;241m.\u001b[39mdecode(\u001b[38;5;124m\"\u001b[39m\u001b[38;5;124mascii\u001b[39m\u001b[38;5;124m\"\u001b[39m))\n\u001b[1;32m--> 267\u001b[0m data \u001b[38;5;241m=\u001b[39m \u001b[43msha2_rsa_encrypt\u001b[49m\u001b[43m(\u001b[49m\u001b[43mconn\u001b[49m\u001b[38;5;241;43m.\u001b[39;49m\u001b[43mpassword\u001b[49m\u001b[43m,\u001b[49m\u001b[43m \u001b[49m\u001b[43mconn\u001b[49m\u001b[38;5;241;43m.\u001b[39;49m\u001b[43msalt\u001b[49m\u001b[43m,\u001b[49m\u001b[43m \u001b[49m\u001b[43mconn\u001b[49m\u001b[38;5;241;43m.\u001b[39;49m\u001b[43mserver_public_key\u001b[49m\u001b[43m)\u001b[49m\n\u001b[0;32m    268\u001b[0m pkt \u001b[38;5;241m=\u001b[39m _roundtrip(conn, data)\n",
      "File \u001b[1;32mc:\\Users\\xm\\AppData\\Local\\Programs\\Python\\Python38\\lib\\site-packages\\pymysql\\_auth.py:144\u001b[0m, in \u001b[0;36msha2_rsa_encrypt\u001b[1;34m(password, salt, public_key)\u001b[0m\n\u001b[0;32m    139\u001b[0m \u001b[38;5;250m\u001b[39m\u001b[38;5;124;03m\"\"\"Encrypt password with salt and public_key.\u001b[39;00m\n\u001b[0;32m    140\u001b[0m \n\u001b[0;32m    141\u001b[0m \u001b[38;5;124;03mUsed for sha256_password and caching_sha2_password.\u001b[39;00m\n\u001b[0;32m    142\u001b[0m \u001b[38;5;124;03m\"\"\"\u001b[39;00m\n\u001b[0;32m    143\u001b[0m \u001b[38;5;28;01mif\u001b[39;00m \u001b[38;5;129;01mnot\u001b[39;00m _have_cryptography:\n\u001b[1;32m--> 144\u001b[0m     \u001b[38;5;28;01mraise\u001b[39;00m \u001b[38;5;167;01mRuntimeError\u001b[39;00m(\n\u001b[0;32m    145\u001b[0m         \u001b[38;5;124m\"\u001b[39m\u001b[38;5;124m'\u001b[39m\u001b[38;5;124mcryptography\u001b[39m\u001b[38;5;124m'\u001b[39m\u001b[38;5;124m package is required for sha256_password or\u001b[39m\u001b[38;5;124m\"\u001b[39m\n\u001b[0;32m    146\u001b[0m         \u001b[38;5;241m+\u001b[39m \u001b[38;5;124m\"\u001b[39m\u001b[38;5;124m caching_sha2_password auth methods\u001b[39m\u001b[38;5;124m\"\u001b[39m\n\u001b[0;32m    147\u001b[0m     )\n\u001b[0;32m    148\u001b[0m message \u001b[38;5;241m=\u001b[39m _xor_password(password \u001b[38;5;241m+\u001b[39m \u001b[38;5;124mb\u001b[39m\u001b[38;5;124m\"\u001b[39m\u001b[38;5;130;01m\\0\u001b[39;00m\u001b[38;5;124m\"\u001b[39m, salt)\n\u001b[0;32m    149\u001b[0m rsa_key \u001b[38;5;241m=\u001b[39m serialization\u001b[38;5;241m.\u001b[39mload_pem_public_key(public_key, default_backend())\n",
      "\u001b[1;31mRuntimeError\u001b[0m: 'cryptography' package is required for sha256_password or caching_sha2_password auth methods"
     ]
    }
   ],
   "source": [
    "import pymysql\n",
    "\n",
    "# 连接到数据库\n",
    "connection = pymysql.connect(host='localhost',\n",
    "                             user='yourusername',\n",
    "                             password='yourpassword',\n",
    "                             database='yourdatabase')\n",
    "\n",
    "try:\n",
    "    with connection.cursor() as cursor:\n",
    "        # 创建 user 表并插入数据\n",
    "        cursor.execute(\"\"\"\n",
    "            CREATE TABLE IF NOT EXISTS user (\n",
    "                id INT AUTO_INCREMENT PRIMARY KEY,\n",
    "                name VARCHAR(255),\n",
    "                sex VARCHAR(10),\n",
    "                age INT,\n",
    "                phone VARCHAR(20)\n",
    "            );\n",
    "        \"\"\")\n",
    "        cursor.executemany(\"\"\"\n",
    "            INSERT INTO user (name, sex, age, phone) VALUES (%s, %s, %s, %s);\n",
    "        \"\"\", [\n",
    "            ('John Doe', 'Male', 25, '123-456-7890'),\n",
    "            ('Jane Smith', 'Female', 31, '987-654-3210'),\n",
    "            ('Bob Johnson', 'Male', 22, '555-123-4567')\n",
    "        ])\n",
    "        connection.commit()\n",
    "        \n",
    "        # 查询 user 表中所有年龄在 20-30 范围内的用户\n",
    "        cursor.execute(\"SELECT * FROM user WHERE age BETWEEN 20 AND 30;\")\n",
    "        result = cursor.fetchall()\n",
    "        print(\"Users aged between 20 and 30:\", result)\n",
    "        \n",
    "        # 向 user 表中添加个人信息和虚拟信息\n",
    "        cursor.executemany(\"\"\"\n",
    "            INSERT INTO user (name, sex, age, phone) VALUES (%s, %s, %s, %s);\n",
    "        \"\"\", [\n",
    "            ('Alice Wang', 'Female', 28, '111-222-3333'),\n",
    "            ('Tom Lee', 'Male', 24, '444-555-6666'),\n",
    "            ('Lucy Zhang', 'Female', 29, '777-888-9999')\n",
    "        ])\n",
    "        connection.commit()\n",
    "        \n",
    "        # 查询 user 表中年龄在 20-30 范围内，名字包含“你的姓氏”的用户，并按照年龄从大到小排序输出\n",
    "        cursor.execute(\"SELECT * FROM user WHERE age BETWEEN 20 AND 30 AND name LIKE '%Wang%' ORDER BY age DESC;\")\n",
    "        result = cursor.fetchall()\n",
    "        print(\"Users aged between 20 and 30 with surname 'Wang':\", result)\n",
    "        \n",
    "        # 计算 user 表中所有用户的平均年龄\n",
    "        cursor.execute(\"SELECT AVG(age) AS average_age FROM user;\")\n",
    "        result = cursor.fetchone()\n",
    "        print(\"Average age of users:\", result['average_age'])\n",
    "        \n",
    "        # 创建 team 表和 score 表，并插入记录\n",
    "        cursor.execute(\"\"\"\n",
    "            CREATE TABLE IF NOT EXISTS team (\n",
    "                id INT AUTO_INCREMENT PRIMARY KEY,\n",
    "                teamName VARCHAR(255)\n",
    "            );\n",
    "        \"\"\")\n",
    "        cursor.execute(\"\"\"\n",
    "            CREATE TABLE IF NOT EXISTS score (\n",
    "                id INT AUTO_INCREMENT PRIMARY KEY,\n",
    "                teamid INT,\n",
    "                userid INT,\n",
    "                score INT,\n",
    "                FOREIGN KEY (teamid) REFERENCES team(id),\n",
    "                FOREIGN KEY (userid) REFERENCES user(id)\n",
    "            );\n",
    "        \"\"\")\n",
    "        cursor.execute(\"INSERT INTO team (teamName) VALUES ('ECNU');\")\n",
    "        cursor.executemany(\"\"\"\n",
    "            INSERT INTO score (teamid, userid, score) VALUES (%s, %s, %s);\n",
    "        \"\"\", [\n",
    "            (1, 1, None), # Assuming ids from user table are used here\n",
    "            (1, 2, 85),\n",
    "            (1, 3, 90)\n",
    "        ])\n",
    "        connection.commit()\n",
    "        \n",
    "        # 查询 teamName 为 “ECNU”的队伍中，年龄小于 20 的用户们，结果不得为空\n",
    "        cursor.execute(\"\"\"\n",
    "            SELECT u.* FROM user u\n",
    "            JOIN score s ON u.id = s.userid\n",
    "            JOIN team t ON s.teamid = t.id\n",
    "            WHERE t.teamName = 'ECNU' AND u.age < 20;\n",
    "        \"\"\")\n",
    "        result = cursor.fetchall()\n",
    "        print(\"Users in team 'ECNU' who are younger than 20:\", result)\n",
    "        \n",
    "        # 计算 teamName 为 “ECNU”的总分（假设 score 存在 null值，null值默认加入0）\n",
    "        cursor.execute(\"\"\"\n",
    "            SELECT SUM(COALESCE(score, 0)) AS total_score FROM score\n",
    "            JOIN team ON score.teamid = team.id\n",
    "            WHERE team.teamName = 'ECNU';\n",
    "        \"\"\")\n",
    "        result = cursor.fetchone()\n",
    "        print(\"Total score for team 'ECNU':\", result['total_score'])\n",
    "        \n",
    "        # 删除 user 表中的所有个人信息记录\n",
    "        cursor.execute(\"DELETE FROM user;\")\n",
    "        connection.commit()\n",
    "finally:\n",
    "    connection.close()\n"
   ]
  }
 ],
 "metadata": {
  "kernelspec": {
   "display_name": "Python 3",
   "language": "python",
   "name": "python3"
  },
  "language_info": {
   "codemirror_mode": {
    "name": "ipython",
    "version": 3
   },
   "file_extension": ".py",
   "mimetype": "text/x-python",
   "name": "python",
   "nbconvert_exporter": "python",
   "pygments_lexer": "ipython3",
   "version": "3.8.0"
  }
 },
 "nbformat": 4,
 "nbformat_minor": 2
}
